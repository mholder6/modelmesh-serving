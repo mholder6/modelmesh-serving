{
 "cells": [
  {
   "cell_type": "code",
   "execution_count": null,
   "id": "51f0afd8-b5a7-4dcb-be69-551b9ed52af5",
   "metadata": {},
   "outputs": [],
   "source": [
    "#Import the necessary libraries\n",
    "import tensorflow as tf\n",
    "from tensorflow.keras import layers, datasets\n",
    "from tensorflow.keras import Sequential\n",
    "import matplotlib.pyplot as plt"
   ]
  },
  {
   "cell_type": "code",
   "execution_count": 2,
   "id": "f6f98e7c-5ed9-47e8-95d9-614b2d58b29c",
   "metadata": {},
   "outputs": [],
   "source": [
    "#Import the dataset and split the data into training and testing sets.\n",
    "(input_train, output_train), (input_test, output_test) = tf.keras.datasets.mnist.load_data()"
   ]
  },
  {
   "cell_type": "code",
   "execution_count": 3,
   "id": "49707f10-a5cc-4e72-a45c-66b38ea12963",
   "metadata": {},
   "outputs": [],
   "source": [
    "#Reshape and normalize the input data to fit the size of the MNIST images and normalizing the pixel values.\n",
    "input_train = input_train.reshape(-1, 28, 28, 1)\n",
    "input_test = input_test.reshape(-1, 28, 28, 1)\n",
    "input_train, input_test = input_train / 255.0, input_test / 255.0"
   ]
  },
  {
   "cell_type": "code",
   "execution_count": 4,
   "id": "0736030f-3782-4148-9a15-61aa9a6c934b",
   "metadata": {},
   "outputs": [
    {
     "data": {
      "text/plain": [
       "<tf.Tensor: shape=(10000, 10), dtype=float32, numpy=\n",
       "array([[0., 0., 0., ..., 1., 0., 0.],\n",
       "       [0., 0., 1., ..., 0., 0., 0.],\n",
       "       [0., 1., 0., ..., 0., 0., 0.],\n",
       "       ...,\n",
       "       [0., 0., 0., ..., 0., 0., 0.],\n",
       "       [0., 0., 0., ..., 0., 0., 0.],\n",
       "       [0., 0., 0., ..., 0., 0., 0.]], dtype=float32)>"
      ]
     },
     "execution_count": 4,
     "metadata": {},
     "output_type": "execute_result"
    }
   ],
   "source": [
    "#Use the one_hot function to encode the labeled data to be continuous instead of categorical by converting to one_hot encoded vectors with a depth of 10.\n",
    "tf.one_hot(output_train.astype(\"float32\"), depth=10)\n",
    "tf.one_hot(output_test.astype(\"float32\"), depth=10)"
   ]
  },
  {
   "cell_type": "code",
   "execution_count": 5,
   "id": "95d7da5a-d827-4bd7-8d5c-7e1ff3c0d414",
   "metadata": {},
   "outputs": [
    {
     "name": "stdout",
     "output_type": "stream",
     "text": [
      "Model: \"sequential\"\n",
      "_________________________________________________________________\n",
      "Layer (type)                 Output Shape              Param #   \n",
      "=================================================================\n",
      "conv2d (Conv2D)              (None, 26, 26, 32)        320       \n",
      "_________________________________________________________________\n",
      "max_pooling2d (MaxPooling2D) (None, 13, 13, 32)        0         \n",
      "_________________________________________________________________\n",
      "conv2d_1 (Conv2D)            (None, 11, 11, 64)        18496     \n",
      "_________________________________________________________________\n",
      "max_pooling2d_1 (MaxPooling2 (None, 5, 5, 64)          0         \n",
      "_________________________________________________________________\n",
      "conv2d_2 (Conv2D)            (None, 3, 3, 64)          36928     \n",
      "=================================================================\n",
      "Total params: 55,744\n",
      "Trainable params: 55,744\n",
      "Non-trainable params: 0\n",
      "_________________________________________________________________\n"
     ]
    }
   ],
   "source": [
    "#Create the CNN model with the Sequential class, and add all necessary layers to complete the model\n",
    "sequential = Sequential()\n",
    "sequential.add(layers.Conv2D(32, (3,3), activation='relu', input_shape=(28, 28, 1)))\n",
    "sequential.add(layers.MaxPooling2D(2, 2))\n",
    "sequential.add(layers.Conv2D(64, (3, 3), activation='relu')) \n",
    "sequential.add(layers.MaxPooling2D(2, 2))\n",
    "sequential.add(layers.Conv2D(64, (3, 3), activation='relu')) \n",
    "sequential.summary()"
   ]
  },
  {
   "cell_type": "code",
   "execution_count": 6,
   "id": "297a96f9-e88a-4ebe-ad08-d365579db0dd",
   "metadata": {},
   "outputs": [
    {
     "name": "stdout",
     "output_type": "stream",
     "text": [
      "Model: \"sequential\"\n",
      "_________________________________________________________________\n",
      "Layer (type)                 Output Shape              Param #   \n",
      "=================================================================\n",
      "conv2d (Conv2D)              (None, 26, 26, 32)        320       \n",
      "_________________________________________________________________\n",
      "max_pooling2d (MaxPooling2D) (None, 13, 13, 32)        0         \n",
      "_________________________________________________________________\n",
      "conv2d_1 (Conv2D)            (None, 11, 11, 64)        18496     \n",
      "_________________________________________________________________\n",
      "max_pooling2d_1 (MaxPooling2 (None, 5, 5, 64)          0         \n",
      "_________________________________________________________________\n",
      "conv2d_2 (Conv2D)            (None, 3, 3, 64)          36928     \n",
      "_________________________________________________________________\n",
      "flatten (Flatten)            (None, 576)               0         \n",
      "_________________________________________________________________\n",
      "dense (Dense)                (None, 64)                36928     \n",
      "_________________________________________________________________\n",
      "dense_1 (Dense)              (None, 10)                650       \n",
      "=================================================================\n",
      "Total params: 93,322\n",
      "Trainable params: 93,322\n",
      "Non-trainable params: 0\n",
      "_________________________________________________________________\n"
     ]
    }
   ],
   "source": [
    "sequential.add(layers.Flatten())\n",
    "sequential.add(layers.Dense(64, activation='relu'))\n",
    "sequential.add(layers.Dense(10))\n",
    "sequential.summary()"
   ]
  },
  {
   "cell_type": "code",
   "execution_count": 7,
   "id": "0c888669-507d-41e7-baf9-4e11cd643f7c",
   "metadata": {},
   "outputs": [
    {
     "name": "stdout",
     "output_type": "stream",
     "text": [
      "Epoch 1/5\n",
      "469/469 [==============================] - 14s 29ms/step - loss: 0.2604 - accuracy: 0.9185 - val_loss: 0.0754 - val_accuracy: 0.9742\n",
      "Epoch 2/5\n",
      "469/469 [==============================] - 16s 35ms/step - loss: 0.0650 - accuracy: 0.9799 - val_loss: 0.0400 - val_accuracy: 0.9860\n",
      "Epoch 3/5\n",
      "469/469 [==============================] - 16s 34ms/step - loss: 0.0448 - accuracy: 0.9864 - val_loss: 0.0347 - val_accuracy: 0.9886\n",
      "Epoch 4/5\n",
      "469/469 [==============================] - 16s 34ms/step - loss: 0.0347 - accuracy: 0.9892 - val_loss: 0.0399 - val_accuracy: 0.9865\n",
      "Epoch 5/5\n",
      "469/469 [==============================] - 16s 34ms/step - loss: 0.0294 - accuracy: 0.9904 - val_loss: 0.0310 - val_accuracy: 0.9897\n"
     ]
    }
   ],
   "source": [
    "#Compile and train the model \n",
    "sequential.compile(optimizer='adam', loss=tf.keras.losses.SparseCategoricalCrossentropy(from_logits=True), metrics=[\"accuracy\"])\n",
    "training = sequential.fit(input_train, output_train, batch_size=128, epochs=5, validation_data=(input_test, output_test))"
   ]
  },
  {
   "cell_type": "code",
   "execution_count": 17,
   "id": "a41de942-27fe-4b8b-9bf3-7df3886589da",
   "metadata": {},
   "outputs": [
    {
     "data": {
      "text/plain": [
       "<matplotlib.legend.Legend at 0x7f2ef9c48860>"
      ]
     },
     "execution_count": 17,
     "metadata": {},
     "output_type": "execute_result"
    },
    {
     "data": {
      "image/png": "[encoded data removed]",
      "text/plain": [
       "<Figure size 1080x1080 with 1 Axes>"
      ]
     },
     "metadata": {
      "needs_background": "light"
     },
     "output_type": "display_data"
    }
   ],
   "source": [
    "#Plot the accuracy of the model's training performance using matplotlib\n",
    "plt.figure(figsize=(15,15))\n",
    "plt.plot(training.history['accuracy'], label='accuracy')\n",
    "plt.plot(training.history['val_accuracy'], label='val_accuracy')\n",
    "plt.xlabel('Epoch')\n",
    "plt.ylabel('Accuracy')\n",
    "plt.ylim([.9, 1])\n",
    "plt.legend(loc='lower left')"
   ]
  },
  {
   "cell_type": "code",
   "execution_count": 11,
   "id": "09fbf714-2920-4bd8-a3fc-5c2563354994",
   "metadata": {},
   "outputs": [
    {
     "name": "stdout",
     "output_type": "stream",
     "text": [
      "313/313 [==============================] - 1s 2ms/step - loss: 0.0310 - accuracy: 0.9897\n",
      "Test Loss:  0.030978646129369736\n",
      "Test Accuracy: 0.9897000193595886\n"
     ]
    }
   ],
   "source": [
    "#Evaluate the model's performance; calculate and return the loss and accuracy.\n",
    "loss, accuracy = sequential.evaluate(input_test, output_test)\n",
    "print(\"Test Loss: \" ,loss)\n",
    "print(\"Test Accuracy:\", accuracy)"
   ]
  }
 ],
 "metadata": {
  "kernelspec": {
   "display_name": "Python 3",
   "language": "python",
   "name": "python3"
  },
  "language_info": {
   "codemirror_mode": {
    "name": "ipython",
    "version": 3
   },
   "file_extension": ".py",
   "mimetype": "text/x-python",
   "name": "python",
   "nbconvert_exporter": "python",
   "pygments_lexer": "ipython3",
   "version": "3.6.8"
  }
 },
 "nbformat": 4,
 "nbformat_minor": 5
}
